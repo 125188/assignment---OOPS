{
 "cells": [
  {
   "cell_type": "markdown",
   "id": "18742ce0-f85e-4746-a83d-7ec52aff7974",
   "metadata": {},
   "source": [
    "# 1..\n",
    "CLASS---A Class in object oriented programming is a blueprint or prototype that defines the variables and the methods (functions) common to all Java Objects of a certain kind.\n",
    "\n",
    "example :   class sai():\n",
    "                pass\n",
    "                print(\"welcome u have completed ur PW assignment\")\n",
    "\n",
    "OBJECT----An object in OOPS is a specimen of a class. Software objects are often used to model real-world objects you find in everyday life.\n",
    "\n",
    "example :   p1 = myclass()\n",
    "            print(p1.x)\n",
    "              "
   ]
  },
  {
   "cell_type": "markdown",
   "id": "ba96876c-e5e6-4481-9742-270bff4812aa",
   "metadata": {},
   "source": [
    "# 2...\n",
    "\n",
    "The 4-pillars of OOPS are:\n",
    "    1...Encapsulation\n",
    "    2...Polymorphism\n",
    "    3...Inheritance\n",
    "    4...Abstraction"
   ]
  },
  {
   "cell_type": "markdown",
   "id": "f72411e2-1c3d-4e84-921a-6f61aa83209e",
   "metadata": {},
   "source": [
    "# 3..\n",
    "       IN_IT FUNCTION \n",
    "in_it :: The fuction of in_it is it is a default constructor in python...\n",
    " Constructors are used to initializing the object s state.The task of constructors is to initialize to the data members of the class when an object of the class is created.\\Like methods a constructor also contains a collection of statements that are executed at the time of Object creation. It is run as soon as an object of a class is instialized.The method is useful to do any initialization you want to do with your object."
   ]
  },
  {
   "cell_type": "markdown",
   "id": "1650f860-0899-4410-ba3b-6a8ce7efc8e1",
   "metadata": {},
   "source": [
    "#4...\n",
    "\n",
    "USE OF \"SELF\" IN OOP'S\n",
    "\n",
    "self represents the instance of the class. By using the “self” we can access the attributes and methods of the class in python.It binds the attributes with the given arguments...."
   ]
  },
  {
   "cell_type": "code",
   "execution_count": null,
   "id": "7b852209-683e-48df-9181-1de282fc6379",
   "metadata": {},
   "outputs": [],
   "source": [
    "5...\n",
    "\n",
    "INHERITANCE:::\n",
    "    It allows a class to inherit all the methods and classes in a another class.....\n",
    "    Parent class is inherited from a base class...\n",
    "    Child class is a class which inherits from other class...\n",
    " ---------------------------------------------------------------------------------------------------------------------   \n",
    "    example for base class::\n",
    "        \n",
    "        class Person:\n",
    "  def __init__(self, fname, lname):\n",
    "    self.firstname = f_name\n",
    "    self.lastname = l_name\n",
    "\n",
    "  def printname(self):\n",
    "    print(self.firstname, self.lastname)\n",
    "\n",
    "#Use the Person class to create an object, and then execute the printname method:\n",
    "\n",
    "x = Person(\"sai\", \"chetan\")\n",
    "x.printname()\n",
    "   ------------------------------------------------------------------------------------------------                      "
   ]
  }
 ],
 "metadata": {
  "kernelspec": {
   "display_name": "Python 3 (ipykernel)",
   "language": "python",
   "name": "python3"
  },
  "language_info": {
   "codemirror_mode": {
    "name": "ipython",
    "version": 3
   },
   "file_extension": ".py",
   "mimetype": "text/x-python",
   "name": "python",
   "nbconvert_exporter": "python",
   "pygments_lexer": "ipython3",
   "version": "3.10.6"
  }
 },
 "nbformat": 4,
 "nbformat_minor": 5
}
